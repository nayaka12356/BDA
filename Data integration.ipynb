{
 "cells": [
  {
   "cell_type": "code",
   "execution_count": 2,
   "id": "d55daaca",
   "metadata": {},
   "outputs": [],
   "source": [
    "import pandas as pd"
   ]
  },
  {
   "cell_type": "code",
   "execution_count": 4,
   "id": "e66e2434",
   "metadata": {},
   "outputs": [],
   "source": [
    "\n",
    "data1 = pd.read_csv(r\"C:\\Users\\Lenovo\\Downloads\\Flavors.csv\")\n",
    "data2 = pd.read_csv(r\"C:\\Users\\Lenovo\\Downloads\\Ice Cream Ratings.csv\")"
   ]
  },
  {
   "cell_type": "code",
   "execution_count": null,
   "id": "f30f5491",
   "metadata": {},
   "outputs": [],
   "source": []
  },
  {
   "cell_type": "code",
   "execution_count": 5,
   "id": "26c1d3ac",
   "metadata": {},
   "outputs": [
    {
     "name": "stdout",
     "output_type": "stream",
     "text": [
      "Data Pertama:\n",
      "                Flavor Base Flavor Liked  Flavor Rating  Texture Rating  \\\n",
      "0  Mint Chocolate Chip     Vanilla   Yes           10.0             8.0   \n",
      "1            Chocolate   Chocolate   Yes            8.8             7.6   \n",
      "2              Vanilla     Vanilla    No            4.7             5.0   \n",
      "3         Cookie Dough     Vanilla   Yes            6.9             6.5   \n",
      "4           Rocky Road   Chocolate   Yes            8.2             7.0   \n",
      "\n",
      "   Total Rating  \n",
      "0          18.0  \n",
      "1          16.6  \n",
      "2           9.7  \n",
      "3          13.4  \n",
      "4          15.2  \n",
      "\n",
      "Data Kedua:\n",
      "       Date  Flavor Rating  Texture Rating  Overall Rating\n",
      "0  1/1/2022       0.223090        0.040220        0.600129\n",
      "1  1/2/2022       0.635886        0.938476        0.106264\n",
      "2  1/3/2022       0.442323        0.044154        0.598112\n",
      "3  1/4/2022       0.389128        0.549676        0.489353\n",
      "4  1/5/2022       0.386887        0.519439        0.988280\n"
     ]
    }
   ],
   "source": [
    "# Melihat lima baris pertama dari kedua dataset\n",
    "print(\"Data Pertama:\")\n",
    "print(data1.head())\n",
    "print(\"\\nData Kedua:\")\n",
    "print(data2.head())"
   ]
  },
  {
   "cell_type": "code",
   "execution_count": 13,
   "id": "10b16158",
   "metadata": {},
   "outputs": [
    {
     "name": "stdout",
     "output_type": "stream",
     "text": [
      "Nama kolom data pertama: Index(['Flavor', 'Base Flavor', 'Liked', 'Flavor Rating', 'Texture Rating',\n",
      "       'Total Rating'],\n",
      "      dtype='object')\n",
      "Nama kolom data kedua: Index(['Date', 'Flavor Rating', 'Texture Rating', 'Overall Rating'], dtype='object')\n"
     ]
    }
   ],
   "source": [
    "print(\"Nama kolom data pertama:\", data1.columns)\n",
    "print(\"Nama kolom data kedua:\", data2.columns)\n"
   ]
  },
  {
   "cell_type": "code",
   "execution_count": 18,
   "id": "7f2f3105",
   "metadata": {},
   "outputs": [],
   "source": [
    "merged_data = pd.merge(data1, data2)\n"
   ]
  },
  {
   "cell_type": "code",
   "execution_count": 19,
   "id": "d7f71f0a",
   "metadata": {},
   "outputs": [
    {
     "name": "stdout",
     "output_type": "stream",
     "text": [
      "\n",
      "Data setelah integrasi:\n",
      "Empty DataFrame\n",
      "Columns: [Flavor, Base Flavor, Liked, Flavor Rating, Texture Rating, Total Rating, Date, Overall Rating]\n",
      "Index: []\n"
     ]
    }
   ],
   "source": [
    "# Melihat lima baris pertama dari dataset yang telah digabungkan\n",
    "print(\"\\nData setelah integrasi:\")\n",
    "print(merged_data.head())\n"
   ]
  },
  {
   "cell_type": "code",
   "execution_count": 21,
   "id": "580c93c2",
   "metadata": {},
   "outputs": [],
   "source": [
    "# Menyimpan dataset yang telah diintegrasikan ke file CSV\n",
    "merged_data.to_csv(\"integrated_data.csv\", index=False)"
   ]
  },
  {
   "cell_type": "code",
   "execution_count": null,
   "id": "dd07e21a",
   "metadata": {},
   "outputs": [],
   "source": []
  },
  {
   "cell_type": "code",
   "execution_count": null,
   "id": "c86263e4",
   "metadata": {},
   "outputs": [],
   "source": []
  }
 ],
 "metadata": {
  "kernelspec": {
   "display_name": "Python 3 (ipykernel)",
   "language": "python",
   "name": "python3"
  },
  "language_info": {
   "codemirror_mode": {
    "name": "ipython",
    "version": 3
   },
   "file_extension": ".py",
   "mimetype": "text/x-python",
   "name": "python",
   "nbconvert_exporter": "python",
   "pygments_lexer": "ipython3",
   "version": "3.11.5"
  }
 },
 "nbformat": 4,
 "nbformat_minor": 5
}
